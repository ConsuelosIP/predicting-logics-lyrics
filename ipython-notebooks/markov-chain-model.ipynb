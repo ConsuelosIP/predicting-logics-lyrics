{
 "cells": [
  {
   "cell_type": "markdown",
   "metadata": {},
   "source": [
    "# Bigram Markov Chain Model\n",
    "\n",
    "Now you'll build a more complex Markov chain that uses the last _two_ words (or bigram) to predict the next word. Now your dict `chain` should map a _tuple_ of words to a list of words that appear after it. So for example, one entry of this dict might be\n",
    "\n",
    "```\n",
    "chain = {\n",
    "    (\"it\", \"is\"): [\"the\", \"the\", \"not\", \"a\", \"a\", \"not\", \"the\"],\n",
    "    ...\n",
    "}\n",
    "```\n",
    "\n",
    "As before, you should also include tags that indicate the beginning and end of a song, as well as line breaks. That is, a tuple might contain tags like `\"<START>\"`, `\"<END>\"`, and `\"<N>\"`, in addition to regular words. So if the song starts with the line \"Is this the real life?\" and ends with the line \"Nothing really matters to me.\", you would have a dictionary that looks like\n",
    "```\n",
    "chain = {\n",
    "    (None, \"<START>\"): [\"Is\", ...],\n",
    "    (\"<START>\", \"Is\"): [\"this\", ...],\n",
    "    (\"Is\", \"this\"): [\"the\", ...],\n",
    "    (\"this\", \"the\"): [\"real\", ...],\n",
    "    (\"the\", \"real\"): [\"life?\", ...],\n",
    "    (\"real\", \"life?\"): [\"<N>\", ...],\n",
    "    (\"<N>\", \"Nothing\"): [\"really\", ...],\n",
    "    (\"Nothing\", \"really\"): [\"matters\", ...],\n",
    "    (\"really\", \"matters\"): [\"to\", ...],\n",
    "    (\"matters\", \"to\"): [\"me.\", ...],\n",
    "    (\"to\", \"me.\"): [\"<END>\", ...],\n",
    "    ...\n",
    "}\n",
    "```"
   ]
  },
  {
   "cell_type": "code",
   "execution_count": 7,
   "metadata": {
    "collapsed": false
   },
   "outputs": [],
   "source": [
    "def train_markov_chain(lyrics):\n",
    "    \"\"\"\n",
    "    Args:\n",
    "      - lyrics: a list of strings, where each string represents\n",
    "                the lyrics of one song by an artist.\n",
    "    \n",
    "    Returns:\n",
    "      A dict that maps a tuple of 2 words (\"bigram\") to a list of\n",
    "      words that follow that bigram, representing the Markov\n",
    "      chain trained on the lyrics.\n",
    "    \"\"\"\n",
    "    \n",
    "    # Initialize the beginning of our chain.\n",
    "    chain = {\n",
    "        (None, \"<START>\"): []\n",
    "    }\n",
    "    \n",
    "    for lyric in lyrics:\n",
    "        # Replace newline characters with our tag.\n",
    "        lyric_newlines = lyric.replace('\\n', ' <N> ')\n",
    "        # Create a tuple representing the most recent (current) bigram.\n",
    "        last_2 = (None, \"<START>\")\n",
    "        for word in lyric_newlines.split():\n",
    "            # Add the word as one that follows the current bigram.\n",
    "            chain[last_2].append(word)\n",
    "            # Shift the current bigram to account for the newly added word.\n",
    "            last_2 = (last_2[1], word)\n",
    "            if last_2 not in chain:\n",
    "                chain[last_2] = []\n",
    "        chain[last_2].append(\"<END>\")\n",
    "    \n",
    "    return chain"
   ]
  },
  {
   "cell_type": "code",
   "execution_count": 8,
   "metadata": {
    "collapsed": false,
    "scrolled": true
   },
   "outputs": [
    {
     "name": "stdout",
     "output_type": "stream",
     "text": [
      "[\"I've\", \"I've\", '[Hook:', 'If', 'If', '<END>', '[Woman', \"Let's\", 'I', 'I', '<END>', 'Hold', 'Hey', 'Hey', 'Everything', 'Everything', '<END>', '<END>', 'Jesus,', 'Jesus,']\n"
     ]
    }
   ],
   "source": [
    "# Load the pickled lyrics object that we created earlier.\n",
    "import pickle\n",
    "lyrics = pickle.load(open(\"lyrics.pkl\", \"rb\"))\n",
    "\n",
    "# Train a Markov Chain over all of Logic's lyrics.\n",
    "chain = train_markov_chain(lyrics)\n",
    "\n",
    "# Examine the words that tend to start a song (i.e. words following the <START> tag)\n",
    "print(chain[(None, \"<START>\")][:20])"
   ]
  },
  {
   "cell_type": "code",
   "execution_count": 13,
   "metadata": {
    "collapsed": false
   },
   "outputs": [
    {
     "name": "stdout",
     "output_type": "stream",
     "text": [
      "26775\n"
     ]
    }
   ],
   "source": [
    "print(len(chain.keys()))"
   ]
  },
  {
   "cell_type": "markdown",
   "metadata": {},
   "source": [
    "Now, let's generate new lyrics using the Markov chain you constructed above. To do this, we'll begin at the `(None, \"<START>\")` state and randomly sample a word from the list of first words. Then, we'll randomly sample each next word from the list of words that appeared after the current word in the training data. We will continue this until we reach the `\"<END>\"` state. This will give us the complete lyrics of a randomly generated song!"
   ]
  },
  {
   "cell_type": "code",
   "execution_count": 9,
   "metadata": {
    "collapsed": false
   },
   "outputs": [],
   "source": [
    "import random\n",
    "\n",
    "def generate_new_lyrics(chain):\n",
    "    \"\"\"\n",
    "    Args:\n",
    "      - chain: a dict representing the Markov chain,\n",
    "               such as one generated by generate_new_lyrics()\n",
    "    \n",
    "    Returns:\n",
    "      A string representing the randomly generated song.\n",
    "    \"\"\"\n",
    "    \n",
    "    # a list for storing the generated words\n",
    "    words = []\n",
    "    # generate the first word\n",
    "    word = random.choice(chain[(None, \"<START>\")])\n",
    "    words.append(word)\n",
    "    \n",
    "    # Begin with the first bigram in our chain.\n",
    "    last_2 = (None, \"<START>\")\n",
    "    while words[-1] != \"<END>\":\n",
    "        # Generate the next word.\n",
    "        word = random.choice(chain[last_2])\n",
    "        words.append(word)\n",
    "        # Shift the current bigram to account for the newly added word.\n",
    "        last_2 = (last_2[1], words[-1])\n",
    "    \n",
    "    # Join the words together into a string with line breaks.\n",
    "    lyrics = \" \".join(words[:-1])\n",
    "    return \"\\n\".join(lyrics.split(\"<N>\"))"
   ]
  },
  {
   "cell_type": "code",
   "execution_count": 12,
   "metadata": {
    "collapsed": false
   },
   "outputs": [
    {
     "name": "stdout",
     "output_type": "stream",
     "text": [
      "I've I got \n",
      " And I don't know where the groupies are? \n",
      " Bitches on my mind \n",
      " Through bumpin' my favorite rappers I came from nothing-- so to be freeThis is our ride \n",
      " Don't run from Trump, run against him!Hey mothafucka I'm real as shit \n",
      " I'ma show you mothafuckas see alright? \n",
      " Everybody love, everybody knowI been knockin' doors down like a quarter I was strollin' down the highway \n",
      " For this rap shit \n",
      " You can believe you're superior, fine \n",
      " 'Cause in my kitchen, cutting, selling that \n",
      " Street's disciple \n",
      " My mind racing, I'm sick of pacing, I feel like the brain \n",
      " Pretend that family's my family to avoid the pain \n",
      " With poems written in blood \n",
      " In the hood I'm a king, who died as a black father and a devil wife and a motherfucker still the shit that don't matter and makin' a buck \n",
      " I'ma get up in your rib \n",
      " Got Neil on the tuck \n",
      " I rarely went to the summet. \n",
      " So hot they all might \n",
      " Hold up, wait a minute, know my name until it fade away (Fade away) fade away (Fade away) \n",
      " They gon' know my first pair of dice \n",
      " I don't wanna be black, I don't give a damn 'bout me \n",
      " You know the world because I was stronger, wish that I could live my life has meaning \n",
      " Said she independent, so dont get offended \n",
      " Bitch I run the game \n",
      " Tryna kill you and your mom \n",
      " Working in the pipe \n",
      " 'Cause I came from \n",
      " Or black people \n",
      " Just be happy with the life that I'm giving \n",
      " Make it hate again \n",
      " I mean, I'm not sorry for making this album, and he ain't coming back \n",
      " Yo, making music makes me work harder. Because I didn't get a call back and deal with this rap shit I'm a know \n",
      " These lonely nights is getting to me \n",
      " No never when I feed you Nikki \n",
      " Baby girl you're so divine \n",
      " Ain't no need to slow down \n",
      " I never saw ya \n",
      " I'm on my mind is sober \n",
      " I know how long I think they should know what's up guys, This is merely the beginning now \n",
      " 30 Thousand people in the bank \n",
      " Lookin' in the trap \n",
      " They probably expecting that shit the truth never come clean \n",
      " Can somebody, somebody, somebody, somebody \n",
      " Let's go \n",
      " What really makes you sad, makes you glad \n",
      " Tell me that down me and my homies, screamin', \"fuck the fame\"I don't give a fuck 'bout where they do \n",
      " Was spread a message \n",
      " Of self bondage entangled by the greatest that's around \n",
      " Tell white people I'm black, feel the need to murder 'em in the paint, not a saint \n",
      " Layers to my nigger doe[Verse 2: C Dot Castro] \n",
      " Imma tell 'em hold on \n",
      " My DNA get done integrated \n",
      " My body grew weak \n",
      " As her lips before she met you, \"I wen't out with a long knife \n",
      " You know I am \n",
      " Tell 'em! \n",
      " Momma told me as a child, as a little weird. and that's why I'm like hallelujah! \n",
      " Praise God, almighty, the most high, alpha and omega in the mirror \n",
      " And they murder motherfuckers just cause they wanna believe \n",
      " As long as they're not hurtin' anybody \n",
      " Someone will be okay \n",
      " I used to rock sterling now my life ain't mine \n",
      " Who you know I can tell you \n",
      " Who would've know matters of the government \n",
      " Rich white man \n",
      " Fuck around and drop this \n",
      " But it is \n",
      " Yes I got on the ground, \n",
      " No I ain't judging you for loving it so you know we got it now, yes I've got information that the power was harnessed in that all-black Beamer \n",
      " All different colors and creed all come together for me and my homies that be down with me) \n",
      " (Pop bottles with my sister it begun \n",
      " Skipping school with my homies and we will overcome this feeling \n",
      " And you don't gotta like it was theirs all up on my level, boy, go pay your rent first \n",
      " Me and my homies and we ain't even near him \n",
      " Or told you about how \n",
      " My body grew weak \n",
      " And no matter how hard that you could hear it in the booth][Killer Mike] \n",
      " My fans probably thinking we livin' it right \n",
      " Shit, I'll say I sound like Yeezy \n",
      " But when you're singing this for everybody going through itLike woah \n",
      " You and your wack mans fold like bad hands, roll like Monopoly \n",
      " Advance you copy me like white crystals, I gross the most high, alpha and omega in the whole shit off with this \n",
      " Take it way before the white \n",
      " Make you feel this? \n",
      " I'm likeMade in the trap \n",
      " They was robbing the ice \n",
      " What you been living with this \n",
      " All I know \n",
      " It's the Roc \n",
      " The only thing that can affect you physically and that's why I got a lot of dough, had a education \n",
      " Yeah you know about sleeping outside, no ride in the mirror \n",
      " We were at the boy like whoa! \n",
      " Baptized in a pine casket, it's botched up \n",
      " How is it really truly in my headphones \n",
      " Black is beautiful (black is beautiful) \n",
      " Be black and proud) \n",
      " I'm so sorry that I've been waiting for what?Excuse me?So you sittin' here telling me, this place \n",
      " Thoughts often in another world when the flow up, the flow up a super star \n",
      " Time is money, I can't remember none of thisAtom come here. The meaning of life \n",
      " We got a lot with more shine \n",
      " You can believe you're superior, fine \n",
      " Got champagne problems, and I wonder who am I, so high\n"
     ]
    }
   ],
   "source": [
    "print(generate_new_lyrics(chain))"
   ]
  },
  {
   "cell_type": "markdown",
   "metadata": {},
   "source": [
    "+ In the day she love to smoke, yes she fade away\n",
    "+ So I'm puffing on this vision, the night is my division\n",
    "+ I'ma show 'em how to act, I'ma get up and then on the back\n",
    "+ Praise Black Jesus now they call the cops, do it for the life that I'm puttin' on for the props\n",
    "+ I pretty much knew he was born with the heat, rock more solid than concrete\n",
    "+ Baby girl can I find humanity?\n",
    "+ Put my everything into the street, let alone the heat  \n",
    "+ This motherfucker better know the Feds is buggin'\n",
    "+ My life ain't mine, I need you to save me  \n",
    "+ Everybody looking for the street, let alone the heat\n",
    "+ I'ma keep rapping about all of you guys? Fuck all that shit I was gone for a reason\n",
    "+ Oh my, my, my, feeling this villainous vibe\n",
    "+ But I take the bus from my problems, Lord help me solve them\n",
    "+ Now I'm praying for somebody to save me, no matter what you believe is right\n",
    "+ You got everything to lose, like a goddamn king \n",
    "+ Pawns tend to carry on with no dial tone\n",
    "+ Yeah, know what? I'll make dead fuckin' presidents to represent me\n",
    "+ The life that I'm puttin' on, this is a facade\n",
    "+ She don't wanna cry anymore, destitute and less informed\n",
    "+ I see myself at the Louvre, and I know my mind playing tricks on me\n",
    "+ I feel like I'm killin' my dreams, life fade in a way\n",
    "+ Why nobody wanna say I can rap\n",
    "+ Like abracadabra when that magician pull up the road\n",
    "+ Homies in my studio, and I was strollin' down the highway\n",
    "+ This rap shit another day, another book\n",
    "+ I see good people who make it rain like no other man\n",
    "+ I know where to begin to make a killin'\n",
    "+ Yo, I'ma keep all of this new left over residue\n",
    "+ Trust me girl I won't be mad, if you heard different someone lied\n",
    "+ People thinking they on his level, they ain't ready for more bottles\n",
    "+ Anybody that's riding with me trynna get it like that now"
   ]
  },
  {
   "cell_type": "markdown",
   "metadata": {},
   "source": [
    "### Grader's Comments\n",
    "\n",
    "- \n",
    "- \n",
    "\n",
    "[This question is worth 20 points.]"
   ]
  },
  {
   "cell_type": "code",
   "execution_count": 5,
   "metadata": {
    "collapsed": true
   },
   "outputs": [],
   "source": [
    "# This cell should only be modified only by a grader.\n",
    "scores = [None]"
   ]
  }
 ],
 "metadata": {
  "kernelspec": {
   "display_name": "Python 3",
   "language": "python",
   "name": "python3"
  },
  "language_info": {
   "codemirror_mode": {
    "name": "ipython",
    "version": 3
   },
   "file_extension": ".py",
   "mimetype": "text/x-python",
   "name": "python",
   "nbconvert_exporter": "python",
   "pygments_lexer": "ipython3",
   "version": "3.5.2"
  }
 },
 "nbformat": 4,
 "nbformat_minor": 2
}
