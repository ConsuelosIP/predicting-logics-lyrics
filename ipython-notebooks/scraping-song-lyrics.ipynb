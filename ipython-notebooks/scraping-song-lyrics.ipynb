{
 "cells": [
  {
   "cell_type": "markdown",
   "metadata": {},
   "source": [
    "# Scraping Song Lyrics"
   ]
  },
  {
   "cell_type": "markdown",
   "metadata": {
    "deletable": false,
    "nbgrader": {
     "checksum": "8df71135a614086706cabada8726e93c",
     "grade": false,
     "grade_id": "scraping_question",
     "locked": true,
     "solution": false
    }
   },
   "source": [
    "Find a website that has lyrics for all the songs by your favorite artist. Then scrape the lyrics into a Python list called `lyrics`, where each element of the list represents the lyrics of one song.\n",
    "\n",
    "Tips:\n",
    "- Find a webpage that has links to all the songs, like [this one](http://www.azlyrics.com/n/nirvana.html). [NOTE: It seems like azlyrics.com does not allow you to scrape their webpages, so you'll have to find another source.] Then, you can write code to visit all the links and scrape each page one by one.\n",
    "- Make sure you use time.sleep(0.1) to stagger your requests so that you do not get banned by the website for making too many requests."
   ]
  },
  {
   "cell_type": "code",
   "execution_count": 17,
   "metadata": {
    "collapsed": true
   },
   "outputs": [],
   "source": [
    "import requests\n",
    "import time\n",
    "from bs4 import BeautifulSoup"
   ]
  },
  {
   "cell_type": "code",
   "execution_count": 18,
   "metadata": {
    "collapsed": false,
    "scrolled": true
   },
   "outputs": [
    {
     "name": "stdout",
     "output_type": "stream",
     "text": [
      "http://www.metrolyrics.com/18002738255-lyrics-logic.html\n",
      "http://www.metrolyrics.com/18002738255-explicit-lyrics-logic.html\n",
      "http://www.metrolyrics.com/24-freestyle-lyrics-logic.html\n",
      "http://www.metrolyrics.com/44-bars-lyrics-logic.html\n",
      "http://www.metrolyrics.com/44-bars-explicit-lyrics-logic.html\n",
      "http://www.metrolyrics.com/5-am-lyrics-logic.html\n",
      "http://www.metrolyrics.com/500-days-of-summer-lyrics-logic.html\n",
      "http://www.metrolyrics.com/a-word-from-our-sponsor-explicit-lyrics-logic.html\n",
      "http://www.metrolyrics.com/africaryan-lyrics-logic.html\n",
      "http://www.metrolyrics.com/africaryan-explicit-lyrics-logic.html\n"
     ]
    }
   ],
   "source": [
    "links = []\n",
    "for pagenum in range(1,3):\n",
    "    url = \"http://www.metrolyrics.com/logic-alpage-%d.html\" % pagenum\n",
    "    soup = BeautifulSoup(requests.get(url).text, \"html.parser\")\n",
    "    # First table on this page contains links to songs by Logic.\n",
    "    table = soup.find(\"table\")\n",
    "    for song in table.find_all('a'):\n",
    "        links.append(song.get(\"href\"))\n",
    "\n",
    "for i in range(0,10):\n",
    "    print(links[i])"
   ]
  },
  {
   "cell_type": "code",
   "execution_count": 14,
   "metadata": {
    "collapsed": false,
    "scrolled": true
   },
   "outputs": [],
   "source": [
    "# Enter each link and scrape all of the lyrics.\n",
    "# Each element in our lyrics list will pertain to one song.\n",
    "# Parsing through each link takes a while, expect long runtime.\n",
    "lyrics = []\n",
    "for link in links:\n",
    "    time.sleep(0.1)\n",
    "    bs = BeautifulSoup(requests.get(link).text, \"html.parser\")\n",
    "    paragraphs = bs.find_all('p')\n",
    "    song_text = \"\"\n",
    "    for p in paragraphs:\n",
    "        if p.get(\"class\") != None and \"verse\" in p.get(\"class\"):\n",
    "            song_text = song_text + p.text\n",
    "    lyrics.append(song_text)"
   ]
  },
  {
   "cell_type": "code",
   "execution_count": 15,
   "metadata": {
    "collapsed": false,
    "deletable": false,
    "nbgrader": {
     "checksum": "fc30426e397a9a8fd5e5386ba96c683d",
     "grade": false,
     "grade_id": "scraping_run",
     "locked": true,
     "solution": false
    },
    "scrolled": true
   },
   "outputs": [
    {
     "name": "stdout",
     "output_type": "stream",
     "text": [
      "I've been on the low\n",
      "I been taking my time\n",
      "I feel like I'm out of my mind\n",
      "It feel like my life ain't mine\n",
      "Who can relate?\n",
      "I've been on the low\n",
      "I been taking my time\n",
      "I feel like I'm out of my mind\n",
      "It feel like my life ain't mineI don't wanna be alive\n",
      "I don't wanna be alive\n",
      "I just wanna die today\n",
      "I just wanna die\n",
      "I don't wanna be alive\n",
      "I don't wanna be alive\n",
      "I just wanna die\n",
      "And let me tell you whyAll this other shit I'm talkin' 'bout they think they know it\n",
      "I've been praying for somebody to save me, no one's heroic\n",
      "And my life don't even matter\n",
      "I know it, I know it, I know I'm hurting deep down but can't show it\n",
      "I never had a place to call my own\n",
      "I never had a home\n",
      "Ain't nobody callin' my phone\n",
      "Where you been? Where you at? What's on your mind?\n",
      "They say every life precious but nobody care about mineI've been on the low\n",
      "I been taking my time\n",
      "I feel like I'm out of my mind\n",
      "It feel like my life ain't mine\n",
      "Who can relate?\n",
      "I've been on the low\n",
      "I been taking my time\n",
      "I feel like I'm out of my mind\n",
      "It feel like my life ain't mineI want you to be alive\n",
      "I want you to be alive\n",
      "You don't gotta die today\n",
      "You don't gotta die\n",
      "I want you to be alive\n",
      "I want you to be alive\n",
      "You don't gotta die\n",
      "Now lemme tell you whyIt's the very first breath\n",
      "When your head's been drowning underwater\n",
      "And it's the lightness in the air\n",
      "When you're there\n",
      "Chest to chest with a lover\n",
      "It's holding on, though the road's long\n",
      "And seeing light in the darkest things\n",
      "And when you stare at your reflection\n",
      "Finally knowing who it is\n",
      "I know that you'll thank God you didI know where you been, where you are, where you goin'\n",
      "I know you're the reason I believe in life\n",
      "What's the day without a little night?\n",
      "I'm just tryna shed a little light\n",
      "It can be hard\n",
      "It can be so hard\n",
      "But you gotta live right now\n",
      "You got everything to give right nowI've been on the low\n",
      "I been taking my time\n",
      "I feel like I'm out of my mind\n",
      "It feel like my life ain't mine\n",
      "Who can relate?\n",
      "I've been on the low\n",
      "I been taking my time\n",
      "I feel like I'm out of my mind\n",
      "It feel like my life ain't mineI finally wanna be alive (finally wanna be alive)\n",
      "I finally wanna be alive\n",
      "I don't wanna die today (hey)\n",
      "I don't wanna die\n",
      "I finally wanna be alive (finally wanna be alive)\n",
      "I finally wanna be alive (oh)\n",
      "I don't wanna die (no, I don't wanna die)\n",
      "I don't wanna die\n",
      "(I just wanna live)\n",
      "(I just wanna live)Pain don't hurt the same, I know\n",
      "The lane I travel feels alone\n",
      "But I'm moving 'til my legs give out\n",
      "And I see my tears melt in the snow\n",
      "But I don't wanna cry\n",
      "I don't wanna cry anymore\n",
      "I wanna feel alive\n",
      "I don't even wanna die anymore\n",
      "Oh I don't wanna\n",
      "I don't wanna\n",
      "I don't even wanna die anymore\n"
     ]
    }
   ],
   "source": [
    "# Print out the lyrics to the first song.\n",
    "print(lyrics[0])"
   ]
  },
  {
   "cell_type": "markdown",
   "metadata": {},
   "source": [
    "`pickle` is a Python package that serializes Python objects to disk so that you can load them in later."
   ]
  },
  {
   "cell_type": "code",
   "execution_count": 16,
   "metadata": {
    "collapsed": true
   },
   "outputs": [],
   "source": [
    "import pickle\n",
    "pickle.dump(lyrics, open(\"lyrics.pkl\", \"wb\"))"
   ]
  },
  {
   "cell_type": "markdown",
   "metadata": {},
   "source": [
    "### Grader's Comments\n",
    "\n",
    "- \n",
    "- \n",
    "\n",
    "[This question is worth 30 points.]"
   ]
  },
  {
   "cell_type": "code",
   "execution_count": 8,
   "metadata": {
    "collapsed": true
   },
   "outputs": [],
   "source": [
    "# This cell should only be modified only by a grader.\n",
    "scores = [None]"
   ]
  }
 ],
 "metadata": {
  "kernelspec": {
   "display_name": "Python 3",
   "language": "python",
   "name": "python3"
  },
  "language_info": {
   "codemirror_mode": {
    "name": "ipython",
    "version": 3
   },
   "file_extension": ".py",
   "mimetype": "text/x-python",
   "name": "python",
   "nbconvert_exporter": "python",
   "pygments_lexer": "ipython3",
   "version": "3.5.2"
  }
 },
 "nbformat": 4,
 "nbformat_minor": 0
}
